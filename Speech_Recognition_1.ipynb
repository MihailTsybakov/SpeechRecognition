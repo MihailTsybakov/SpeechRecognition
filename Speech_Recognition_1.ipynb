{
 "cells": [
  {
   "cell_type": "code",
   "execution_count": null,
   "id": "e3757ed7",
   "metadata": {},
   "outputs": [],
   "source": [
    "from vosk import Model, KaldiRecognizer\n",
    "import sys\n",
    "import json\n",
    "import os\n",
    "import time\n",
    "import wave\n",
    "\n",
    "model = Model('C:\\\\Users\\\\mihai\\\\Desktop\\\\Prog\\\\ML\\\\SpeechRecog\\\\vosk-model-ru-0.42')\n",
    "audio_path = 'C:\\\\Users\\\\mihai\\\\Desktop\\\\Unik\\\\5 курс\\\\Философия\\\\Lecture_15_09_wav.wav'\n",
    "\n",
    "wf = wave.open(audio_path, \"rb\")\n",
    "print('[WAV Opened]')\n",
    "rec = KaldiRecognizer(model, 44100)\n",
    "print('[Recognizer initialized]')\n",
    "\n",
    "result = ''\n",
    "last_n = False\n",
    "\n",
    "while True:\n",
    "    data = wf.readframes(44100)\n",
    "    if len(data) == 0:\n",
    "        break\n",
    "\n",
    "    if rec.AcceptWaveform(data):\n",
    "        res = json.loads(rec.Result())\n",
    "\n",
    "        if res['text'] != '':\n",
    "            result += f\" {res['text']}\"\n",
    "            last_n = False\n",
    "        elif not last_n:\n",
    "            result += '\\n'\n",
    "            last_n = True\n",
    "        print(f'Recognized: {res[\"text\"]}')\n",
    "\n",
    "res = json.loads(rec.FinalResult())\n",
    "result += f\" {res['text']}\"\n",
    "\n",
    "print('-'*100)\n",
    "print(result)"
   ]
  }
 ],
 "metadata": {
  "kernelspec": {
   "display_name": "Python 3 (ipykernel)",
   "language": "python",
   "name": "python3"
  },
  "language_info": {
   "codemirror_mode": {
    "name": "ipython",
    "version": 3
   },
   "file_extension": ".py",
   "mimetype": "text/x-python",
   "name": "python",
   "nbconvert_exporter": "python",
   "pygments_lexer": "ipython3",
   "version": "3.9.12"
  }
 },
 "nbformat": 4,
 "nbformat_minor": 5
}
